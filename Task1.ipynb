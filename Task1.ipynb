{
 "cells": [
  {
   "cell_type": "code",
   "execution_count": 1,
   "id": "f61ecfc6",
   "metadata": {},
   "outputs": [
    {
     "data": {
      "text/plain": [
       "3950617160493828"
      ]
     },
     "execution_count": 1,
     "metadata": {},
     "output_type": "execute_result"
    }
   ],
   "source": [
    "# 1) Посчитать сумму ряда 0 - 88888888\n",
    "\n",
    "sum(range(88888888))"
   ]
  },
  {
   "cell_type": "code",
   "execution_count": 4,
   "id": "a8d5e63f",
   "metadata": {},
   "outputs": [
    {
     "name": "stdout",
     "output_type": "stream",
     "text": [
      "24.285714285714285\n"
     ]
    }
   ],
   "source": [
    "# 2) Посчитать cреднее арифметическое ряда [3, 4, 56, 100, 2, 2, 3]\n",
    "\n",
    "x = [3, 4, 56, 100, 2, 2, 3]\n",
    "x_avg = sum(x)/len(x)\n",
    "print(x_avg)"
   ]
  },
  {
   "cell_type": "code",
   "execution_count": 14,
   "id": "096c9982",
   "metadata": {},
   "outputs": [
    {
     "name": "stdout",
     "output_type": "stream",
     "text": [
      "asdyfghyyyy\n"
     ]
    }
   ],
   "source": [
    "# 3) Заменить в строке \"asdxfghyxyx\" все буквы \"х\" на \"у\"\n",
    "\n",
    "line = 'asdxfghyxyx'\n",
    "new_line = \"\"\n",
    "for i in line:\n",
    "    if i == 'x':\n",
    "        new_line += 'y'\n",
    "    else:\n",
    "        new_line += i\n",
    "print(new_line)"
   ]
  },
  {
   "cell_type": "code",
   "execution_count": 8,
   "id": "71a50b35",
   "metadata": {},
   "outputs": [
    {
     "name": "stdout",
     "output_type": "stream",
     "text": [
      "450\n"
     ]
    }
   ],
   "source": [
    "# 4) Сосчитать произведение чисел [3, 4, 56, 100, 15, 2, 20, 30], кратных и 3 и 5\n",
    "\n",
    "numbers = [3, 4, 56, 100, 15, 2, 20, 30]\n",
    "product = 1\n",
    "for j in numbers:\n",
    "    if j // 3 == j/3 and j // 5 == j/5:\n",
    "        product *= j\n",
    "print(product)"
   ]
  },
  {
   "cell_type": "code",
   "execution_count": 15,
   "id": "d0a5835f",
   "metadata": {},
   "outputs": [
    {
     "name": "stdout",
     "output_type": "stream",
     "text": [
      "asdyfghyyyy\n"
     ]
    }
   ],
   "source": [
    "# 5) Заменить все буквы \"х\" на \"у\" в исходной строке без использования дополнительной строки\n",
    "# строки в питоне неизменяемые\n",
    "\n",
    "print(line.replace('x','y'))"
   ]
  }
 ],
 "metadata": {
  "kernelspec": {
   "display_name": "Python 3",
   "language": "python",
   "name": "python3"
  },
  "language_info": {
   "codemirror_mode": {
    "name": "ipython",
    "version": 3
   },
   "file_extension": ".py",
   "mimetype": "text/x-python",
   "name": "python",
   "nbconvert_exporter": "python",
   "pygments_lexer": "ipython3",
   "version": "3.8.8"
  }
 },
 "nbformat": 4,
 "nbformat_minor": 5
}
