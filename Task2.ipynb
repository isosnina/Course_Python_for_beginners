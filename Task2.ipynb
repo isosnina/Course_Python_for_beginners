{
 "cells": [
  {
   "cell_type": "code",
   "execution_count": 1,
   "id": "667dabac",
   "metadata": {},
   "outputs": [
    {
     "data": {
      "text/plain": [
       "list"
      ]
     },
     "execution_count": 1,
     "metadata": {},
     "output_type": "execute_result"
    }
   ],
   "source": [
    "# Список: информация упорядочена, при этом каждый элемент определяется своим номером, допускаются повторы, \n",
    "# элементы могут быть не хэшируемыми.\n",
    "books0 = [\n",
    "    ['Мастер и Маргарита', 'Булгаков Михаил Афанасьевич', 'роман'],\n",
    "    ['Евгений Онегин', 'Пушкин Александр Сергеевич', 'поэма'],\n",
    "    ['Война и мир', 'Толстой Лев Николаевич', 'роман']\n",
    "]\n",
    "type(books0)"
   ]
  },
  {
   "cell_type": "code",
   "execution_count": 2,
   "id": "8485e7f4",
   "metadata": {},
   "outputs": [
    {
     "name": "stdout",
     "output_type": "stream",
     "text": [
      "Пушкин Александр Сергеевич , поэма\n"
     ]
    }
   ],
   "source": [
    "# Реализация поиска по списку: вывести информацию о книге 'Евгений Онегин'\n",
    "for element in books0:\n",
    "    if element [0] == 'Евгений Онегин':\n",
    "        print(element [1], ',', element [2])"
   ]
  },
  {
   "cell_type": "code",
   "execution_count": 3,
   "id": "415f20c0",
   "metadata": {},
   "outputs": [
    {
     "data": {
      "text/plain": [
       "set"
      ]
     },
     "execution_count": 3,
     "metadata": {},
     "output_type": "execute_result"
    }
   ],
   "source": [
    "# множество: информация не упорядочена, при этом каждый элемент определяется своим номером, не допускаются повторы, \n",
    "# только хэшируемые элементы.\n",
    "books2 = {\n",
    "    ('Мастер и Маргарита', 'Булгаков Михаил Афанасьевич', 'роман'),\n",
    "    ('Евгений Онегин', 'Пушкин Александр Сергеевич', 'поэма'),\n",
    "    ('Война и мир', 'Толстой Лев Николаевич', 'роман')\n",
    "}\n",
    "type(books2)"
   ]
  },
  {
   "cell_type": "code",
   "execution_count": 4,
   "id": "623b63f1",
   "metadata": {},
   "outputs": [
    {
     "name": "stdout",
     "output_type": "stream",
     "text": [
      "Пушкин Александр Сергеевич , поэма\n"
     ]
    }
   ],
   "source": [
    "# Реализация поиска по множеству: вывести информацию о книге 'Евгений Онегин'\n",
    "for item in books2:\n",
    "    if item [0] == 'Евгений Онегин':\n",
    "        print(item [1], ',', item [2])"
   ]
  },
  {
   "cell_type": "code",
   "execution_count": 5,
   "id": "7857d682",
   "metadata": {},
   "outputs": [
    {
     "data": {
      "text/plain": [
       "dict"
      ]
     },
     "execution_count": 5,
     "metadata": {},
     "output_type": "execute_result"
    }
   ],
   "source": [
    "# Словарь: информация не упорядочена, ключи должны быть уникальны, значения могут повторяться, \n",
    "# дополнительно приходится хранить строки-ключи 'автор' и 'жанр' в каждой книге, но при этом поиск по книге становится удобным, \n",
    "# по названию.\n",
    "books1 = {\n",
    "    'Мастер и Маргарита':{'автор':'Булгаков Михаил Афанасьевич', 'жанр':'роман'},\n",
    "    'Евгений Онегин':{'автор':'Пушкин Александр Сергеевич', 'жанр':'поэма'},\n",
    "    'Война и мир':{'автор':'Толстой Лев Николаевич', 'жанр':'роман'}\n",
    "}\n",
    "type(books1)"
   ]
  },
  {
   "cell_type": "code",
   "execution_count": 6,
   "id": "25c751b1",
   "metadata": {},
   "outputs": [
    {
     "data": {
      "text/plain": [
       "{'автор': 'Пушкин Александр Сергеевич', 'жанр': 'поэма'}"
      ]
     },
     "execution_count": 6,
     "metadata": {},
     "output_type": "execute_result"
    }
   ],
   "source": [
    "# Реализация поиска по словарю: вывести информацию о книге \"Евгений Онегин\"\n",
    "books1['Евгений Онегин']"
   ]
  }
 ],
 "metadata": {
  "kernelspec": {
   "display_name": "Python 3",
   "language": "python",
   "name": "python3"
  },
  "language_info": {
   "codemirror_mode": {
    "name": "ipython",
    "version": 3
   },
   "file_extension": ".py",
   "mimetype": "text/x-python",
   "name": "python",
   "nbconvert_exporter": "python",
   "pygments_lexer": "ipython3",
   "version": "3.8.8"
  }
 },
 "nbformat": 4,
 "nbformat_minor": 5
}
